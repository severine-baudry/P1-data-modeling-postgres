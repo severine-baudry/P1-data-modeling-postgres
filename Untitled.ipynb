{
 "cells": [
  {
   "cell_type": "code",
   "execution_count": 1,
   "metadata": {
    "editable": true
   },
   "outputs": [],
   "source": [
    "import sql_queries\n",
    "import create_tables"
   ]
  },
  {
   "cell_type": "code",
   "execution_count": 2,
   "metadata": {
    "editable": true
   },
   "outputs": [
    {
     "data": {
      "text/plain": [
       "'DROP TABLE IF EXISTS toto;'"
      ]
     },
     "execution_count": 2,
     "metadata": {},
     "output_type": "execute_result"
    }
   ],
   "source": [
    "sql_queries.drop_table_query(\"toto\")"
   ]
  },
  {
   "cell_type": "code",
   "execution_count": 3,
   "metadata": {
    "editable": true
   },
   "outputs": [],
   "source": [
    "import pandas as pd"
   ]
  },
  {
   "cell_type": "code",
   "execution_count": 4,
   "metadata": {
    "editable": true
   },
   "outputs": [],
   "source": [
    "event_4 = pd.read_json(\"data/log_data/2018/11/2018-11-04-events.json\", lines = True)"
   ]
  },
  {
   "cell_type": "code",
   "execution_count": 5,
   "metadata": {
    "editable": true
   },
   "outputs": [
    {
     "data": {
      "text/html": [
       "<div>\n",
       "<style scoped>\n",
       "    .dataframe tbody tr th:only-of-type {\n",
       "        vertical-align: middle;\n",
       "    }\n",
       "\n",
       "    .dataframe tbody tr th {\n",
       "        vertical-align: top;\n",
       "    }\n",
       "\n",
       "    .dataframe thead th {\n",
       "        text-align: right;\n",
       "    }\n",
       "</style>\n",
       "<table border=\"1\" class=\"dataframe\">\n",
       "  <thead>\n",
       "    <tr style=\"text-align: right;\">\n",
       "      <th></th>\n",
       "      <th>artist</th>\n",
       "      <th>auth</th>\n",
       "      <th>firstName</th>\n",
       "      <th>gender</th>\n",
       "      <th>itemInSession</th>\n",
       "      <th>lastName</th>\n",
       "      <th>length</th>\n",
       "      <th>level</th>\n",
       "      <th>location</th>\n",
       "      <th>method</th>\n",
       "      <th>page</th>\n",
       "      <th>registration</th>\n",
       "      <th>sessionId</th>\n",
       "      <th>song</th>\n",
       "      <th>status</th>\n",
       "      <th>ts</th>\n",
       "      <th>userAgent</th>\n",
       "      <th>userId</th>\n",
       "    </tr>\n",
       "  </thead>\n",
       "  <tbody>\n",
       "    <tr>\n",
       "      <th>0</th>\n",
       "      <td>None</td>\n",
       "      <td>Logged In</td>\n",
       "      <td>Theodore</td>\n",
       "      <td>M</td>\n",
       "      <td>0</td>\n",
       "      <td>Smith</td>\n",
       "      <td>NaN</td>\n",
       "      <td>free</td>\n",
       "      <td>Houston-The Woodlands-Sugar Land, TX</td>\n",
       "      <td>GET</td>\n",
       "      <td>Home</td>\n",
       "      <td>1.540306e+12</td>\n",
       "      <td>154</td>\n",
       "      <td>None</td>\n",
       "      <td>200</td>\n",
       "      <td>1541290555796</td>\n",
       "      <td>Mozilla/5.0 (Windows NT 6.1; WOW64; rv:31.0) G...</td>\n",
       "      <td>52</td>\n",
       "    </tr>\n",
       "    <tr>\n",
       "      <th>1</th>\n",
       "      <td>Professor Longhair</td>\n",
       "      <td>Logged In</td>\n",
       "      <td>Ann</td>\n",
       "      <td>F</td>\n",
       "      <td>0</td>\n",
       "      <td>Banks</td>\n",
       "      <td>214.20363</td>\n",
       "      <td>free</td>\n",
       "      <td>Salt Lake City, UT</td>\n",
       "      <td>PUT</td>\n",
       "      <td>NextSong</td>\n",
       "      <td>1.540896e+12</td>\n",
       "      <td>124</td>\n",
       "      <td>Mean Ol'World</td>\n",
       "      <td>200</td>\n",
       "      <td>1541292603796</td>\n",
       "      <td>Mozilla/5.0 (Macintosh; Intel Mac OS X 10.9; r...</td>\n",
       "      <td>99</td>\n",
       "    </tr>\n",
       "    <tr>\n",
       "      <th>2</th>\n",
       "      <td>None</td>\n",
       "      <td>Logged In</td>\n",
       "      <td>Jahiem</td>\n",
       "      <td>M</td>\n",
       "      <td>0</td>\n",
       "      <td>Miles</td>\n",
       "      <td>NaN</td>\n",
       "      <td>free</td>\n",
       "      <td>San Antonio-New Braunfels, TX</td>\n",
       "      <td>GET</td>\n",
       "      <td>Home</td>\n",
       "      <td>1.540817e+12</td>\n",
       "      <td>42</td>\n",
       "      <td>None</td>\n",
       "      <td>200</td>\n",
       "      <td>1541299033796</td>\n",
       "      <td>\"Mozilla/5.0 (Windows NT 5.1) AppleWebKit/537....</td>\n",
       "      <td>43</td>\n",
       "    </tr>\n",
       "    <tr>\n",
       "      <th>3</th>\n",
       "      <td>Gary Hobbs</td>\n",
       "      <td>Logged In</td>\n",
       "      <td>Jahiem</td>\n",
       "      <td>M</td>\n",
       "      <td>1</td>\n",
       "      <td>Miles</td>\n",
       "      <td>245.52444</td>\n",
       "      <td>free</td>\n",
       "      <td>San Antonio-New Braunfels, TX</td>\n",
       "      <td>PUT</td>\n",
       "      <td>NextSong</td>\n",
       "      <td>1.540817e+12</td>\n",
       "      <td>42</td>\n",
       "      <td>En Mi Mundo</td>\n",
       "      <td>200</td>\n",
       "      <td>1541300092796</td>\n",
       "      <td>\"Mozilla/5.0 (Windows NT 5.1) AppleWebKit/537....</td>\n",
       "      <td>43</td>\n",
       "    </tr>\n",
       "    <tr>\n",
       "      <th>4</th>\n",
       "      <td>Lifehouse</td>\n",
       "      <td>Logged In</td>\n",
       "      <td>Jahiem</td>\n",
       "      <td>M</td>\n",
       "      <td>2</td>\n",
       "      <td>Miles</td>\n",
       "      <td>203.59791</td>\n",
       "      <td>free</td>\n",
       "      <td>San Antonio-New Braunfels, TX</td>\n",
       "      <td>PUT</td>\n",
       "      <td>NextSong</td>\n",
       "      <td>1.540817e+12</td>\n",
       "      <td>42</td>\n",
       "      <td>We'll Never Know</td>\n",
       "      <td>200</td>\n",
       "      <td>1541300337796</td>\n",
       "      <td>\"Mozilla/5.0 (Windows NT 5.1) AppleWebKit/537....</td>\n",
       "      <td>43</td>\n",
       "    </tr>\n",
       "  </tbody>\n",
       "</table>\n",
       "</div>"
      ],
      "text/plain": [
       "               artist       auth firstName gender  itemInSession lastName  \\\n",
       "0                None  Logged In  Theodore      M              0    Smith   \n",
       "1  Professor Longhair  Logged In       Ann      F              0    Banks   \n",
       "2                None  Logged In    Jahiem      M              0    Miles   \n",
       "3          Gary Hobbs  Logged In    Jahiem      M              1    Miles   \n",
       "4           Lifehouse  Logged In    Jahiem      M              2    Miles   \n",
       "\n",
       "      length level                              location method      page  \\\n",
       "0        NaN  free  Houston-The Woodlands-Sugar Land, TX    GET      Home   \n",
       "1  214.20363  free                    Salt Lake City, UT    PUT  NextSong   \n",
       "2        NaN  free         San Antonio-New Braunfels, TX    GET      Home   \n",
       "3  245.52444  free         San Antonio-New Braunfels, TX    PUT  NextSong   \n",
       "4  203.59791  free         San Antonio-New Braunfels, TX    PUT  NextSong   \n",
       "\n",
       "   registration  sessionId              song  status             ts  \\\n",
       "0  1.540306e+12        154              None     200  1541290555796   \n",
       "1  1.540896e+12        124     Mean Ol'World     200  1541292603796   \n",
       "2  1.540817e+12         42              None     200  1541299033796   \n",
       "3  1.540817e+12         42       En Mi Mundo     200  1541300092796   \n",
       "4  1.540817e+12         42  We'll Never Know     200  1541300337796   \n",
       "\n",
       "                                           userAgent userId  \n",
       "0  Mozilla/5.0 (Windows NT 6.1; WOW64; rv:31.0) G...     52  \n",
       "1  Mozilla/5.0 (Macintosh; Intel Mac OS X 10.9; r...     99  \n",
       "2  \"Mozilla/5.0 (Windows NT 5.1) AppleWebKit/537....     43  \n",
       "3  \"Mozilla/5.0 (Windows NT 5.1) AppleWebKit/537....     43  \n",
       "4  \"Mozilla/5.0 (Windows NT 5.1) AppleWebKit/537....     43  "
      ]
     },
     "execution_count": 5,
     "metadata": {},
     "output_type": "execute_result"
    }
   ],
   "source": [
    "event_4.head()"
   ]
  },
  {
   "cell_type": "code",
   "execution_count": 6,
   "metadata": {
    "editable": true
   },
   "outputs": [],
   "source": [
    "song_1 = pd.read_json( 'data/song_data/A/A/A/TRAAAAW128F429D538.json', lines = True)"
   ]
  },
  {
   "cell_type": "code",
   "execution_count": 7,
   "metadata": {
    "editable": true
   },
   "outputs": [
    {
     "data": {
      "text/html": [
       "<div>\n",
       "<style scoped>\n",
       "    .dataframe tbody tr th:only-of-type {\n",
       "        vertical-align: middle;\n",
       "    }\n",
       "\n",
       "    .dataframe tbody tr th {\n",
       "        vertical-align: top;\n",
       "    }\n",
       "\n",
       "    .dataframe thead th {\n",
       "        text-align: right;\n",
       "    }\n",
       "</style>\n",
       "<table border=\"1\" class=\"dataframe\">\n",
       "  <thead>\n",
       "    <tr style=\"text-align: right;\">\n",
       "      <th></th>\n",
       "      <th>artist_id</th>\n",
       "      <th>artist_latitude</th>\n",
       "      <th>artist_location</th>\n",
       "      <th>artist_longitude</th>\n",
       "      <th>artist_name</th>\n",
       "      <th>duration</th>\n",
       "      <th>num_songs</th>\n",
       "      <th>song_id</th>\n",
       "      <th>title</th>\n",
       "      <th>year</th>\n",
       "    </tr>\n",
       "  </thead>\n",
       "  <tbody>\n",
       "    <tr>\n",
       "      <th>0</th>\n",
       "      <td>ARD7TVE1187B99BFB1</td>\n",
       "      <td>NaN</td>\n",
       "      <td>California - LA</td>\n",
       "      <td>NaN</td>\n",
       "      <td>Casual</td>\n",
       "      <td>218.93179</td>\n",
       "      <td>1</td>\n",
       "      <td>SOMZWCG12A8C13C480</td>\n",
       "      <td>I Didn't Mean To</td>\n",
       "      <td>0</td>\n",
       "    </tr>\n",
       "  </tbody>\n",
       "</table>\n",
       "</div>"
      ],
      "text/plain": [
       "            artist_id  artist_latitude  artist_location  artist_longitude  \\\n",
       "0  ARD7TVE1187B99BFB1              NaN  California - LA               NaN   \n",
       "\n",
       "  artist_name   duration  num_songs             song_id             title  \\\n",
       "0      Casual  218.93179          1  SOMZWCG12A8C13C480  I Didn't Mean To   \n",
       "\n",
       "   year  \n",
       "0     0  "
      ]
     },
     "execution_count": 7,
     "metadata": {},
     "output_type": "execute_result"
    }
   ],
   "source": [
    "song_1.head()"
   ]
  },
  {
   "cell_type": "code",
   "execution_count": 8,
   "metadata": {
    "editable": true
   },
   "outputs": [
    {
     "data": {
      "text/html": [
       "<div>\n",
       "<style scoped>\n",
       "    .dataframe tbody tr th:only-of-type {\n",
       "        vertical-align: middle;\n",
       "    }\n",
       "\n",
       "    .dataframe tbody tr th {\n",
       "        vertical-align: top;\n",
       "    }\n",
       "\n",
       "    .dataframe thead th {\n",
       "        text-align: right;\n",
       "    }\n",
       "</style>\n",
       "<table border=\"1\" class=\"dataframe\">\n",
       "  <thead>\n",
       "    <tr style=\"text-align: right;\">\n",
       "      <th></th>\n",
       "      <th>artist_id</th>\n",
       "      <th>artist_latitude</th>\n",
       "      <th>artist_location</th>\n",
       "      <th>artist_longitude</th>\n",
       "      <th>artist_name</th>\n",
       "      <th>duration</th>\n",
       "      <th>num_songs</th>\n",
       "      <th>song_id</th>\n",
       "      <th>title</th>\n",
       "      <th>year</th>\n",
       "    </tr>\n",
       "  </thead>\n",
       "  <tbody>\n",
       "    <tr>\n",
       "      <th>0</th>\n",
       "      <td>ARMJAGH1187FB546F3</td>\n",
       "      <td>35.14968</td>\n",
       "      <td>Memphis, TN</td>\n",
       "      <td>-90.04892</td>\n",
       "      <td>The Box Tops</td>\n",
       "      <td>148.03546</td>\n",
       "      <td>1</td>\n",
       "      <td>SOCIWDW12A8C13D406</td>\n",
       "      <td>Soul Deep</td>\n",
       "      <td>1969</td>\n",
       "    </tr>\n",
       "  </tbody>\n",
       "</table>\n",
       "</div>"
      ],
      "text/plain": [
       "            artist_id  artist_latitude artist_location  artist_longitude  \\\n",
       "0  ARMJAGH1187FB546F3         35.14968     Memphis, TN         -90.04892   \n",
       "\n",
       "    artist_name   duration  num_songs             song_id      title  year  \n",
       "0  The Box Tops  148.03546          1  SOCIWDW12A8C13D406  Soul Deep  1969  "
      ]
     },
     "execution_count": 8,
     "metadata": {},
     "output_type": "execute_result"
    }
   ],
   "source": [
    "json_path = \"data/song_data/A/A/A/TRAAABD128F429CF47.json\"\n",
    "toto = pd.read_json(json_path, lines = True)\n",
    "toto.head()"
   ]
  },
  {
   "cell_type": "code",
   "execution_count": 9,
   "metadata": {
    "editable": true
   },
   "outputs": [
    {
     "name": "stdout",
     "output_type": "stream",
     "text": [
      "DROP TABLE IF EXISTS songplays;\n",
      "DROP TABLE IF EXISTS users;\n",
      "DROP TABLE IF EXISTS songs;\n",
      "DROP TABLE IF EXISTS artists;\n",
      "DROP TABLE IF EXISTS time;\n",
      "\n",
      "    CREATE TABLE IF NOT EXISTS songplays\n",
      "    (songplay_id int PRIMARY KEY,\n",
      "    start_time time,\n",
      "    user_id int,\n",
      "    level varchar,\n",
      "    song_id int,\n",
      "    artist_id int,\n",
      "    session_id int,\n",
      "    location varchar(200),\n",
      "    useragent varchar(200)\n",
      "    );\n",
      "\n",
      "\n",
      "    CREATE TABLE IF NOT EXISTS users\n",
      "    ( user_id int PRIMARY KEY,\n",
      "    first_name varchar,\n",
      "    last_name varchar,\n",
      "    gender char,\n",
      "    level varchar\n",
      "    );\n",
      "    \n",
      "\n",
      "\n",
      "\n",
      "    CREATE TABLE IF NOT EXISTS songs\n",
      "    (\n",
      "    song_id varchar PRIMARY KEY,\n",
      "    title varchar(200),\n",
      "    artist_id varchar,\n",
      "    year int,\n",
      "    duration real\n",
      "    );\n",
      "\n",
      "\n",
      "\n",
      "    CREATE TABLE IF NOT EXISTS artists\n",
      "    (\n",
      "    artist_id varchar PRIMARY KEY,\n",
      "    name varchar,\n",
      "    location varchar,\n",
      "    latitude real,\n",
      "    longitude real\n",
      "    );\n",
      "\n",
      "\n",
      "    CREATE TABLE IF NOT EXISTS time\n",
      "    (\n",
      "    start_time timestamp,\n",
      "    time time,\n",
      "    date date\n",
      "    );\n",
      "\n"
     ]
    }
   ],
   "source": [
    "create_tables.main()"
   ]
  },
  {
   "cell_type": "code",
   "execution_count": null,
   "metadata": {
    "editable": true
   },
   "outputs": [],
   "source": []
  }
 ],
 "metadata": {
  "kernelspec": {
   "display_name": "Python 3",
   "language": "python",
   "name": "python3"
  },
  "language_info": {
   "codemirror_mode": {
    "name": "ipython",
    "version": 3
   },
   "file_extension": ".py",
   "mimetype": "text/x-python",
   "name": "python",
   "nbconvert_exporter": "python",
   "pygments_lexer": "ipython3",
   "version": "3.6.3"
  }
 },
 "nbformat": 4,
 "nbformat_minor": 4
}
